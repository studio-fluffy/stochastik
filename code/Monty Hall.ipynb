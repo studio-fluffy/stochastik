{
 "cells": [
  {
   "cell_type": "code",
   "execution_count": 3,
   "metadata": {},
   "outputs": [
    {
     "ename": "SyntaxError",
     "evalue": "invalid syntax (<ipython-input-3-8561bb35e946>, line 9)",
     "output_type": "error",
     "traceback": [
      "\u001b[0;36m  File \u001b[0;32m\"<ipython-input-3-8561bb35e946>\"\u001b[0;36m, line \u001b[0;32m9\u001b[0m\n\u001b[0;31m    prize <- sample(1:3, N, replace = TRUE)\u001b[0m\n\u001b[0m                     ^\u001b[0m\n\u001b[0;31mSyntaxError\u001b[0m\u001b[0;31m:\u001b[0m invalid syntax\n"
     ]
    }
   ],
   "source": [
    "################################################\n",
    "## Implementation of the Monty Hall Problem in R\n",
    "\n",
    "\n",
    "## Number of simulations\n",
    "N <- 10000\n",
    "\n",
    "## Randomly select the doors which have the prize behind it\n",
    "prize <- sample(1:3, N, replace = TRUE)\n",
    "\n",
    "## Randomly select the contestant's door choice\n",
    "stay <- sample(1:3, N, replace = TRUE)\n",
    "\n",
    "\n",
    "reveal <- rep(0, N)\n",
    "change <- rep(0, N)\n",
    "\n",
    "for(i in 1:N) {\n",
    "  x <- c(1:3)[-c(prize[i], stay[i])]\n",
    "  \n",
    "  ## If contestant chose wrong door, then only one possible door to reveal\n",
    "  ## If contestant already chose the correct door, then two possible doors to reveal\n",
    "  ## If so, choose randomly which door to reveal\n",
    "  reveal[i] <- x[sample.int(length(x), size = 1)]\n",
    "\n",
    "  ## This changes from the original choice to the other door not revealed\n",
    "  change[i] <- c(1:3)[-c(reveal[i], stay[i])]\n",
    "}\n",
    "\n",
    "## Number of wins for changing or staying with initial door respectively\n",
    "changewin <- ifelse(change == prize, 1, 0)\n",
    "staywin <- ifelse(stay == prize, 1, 0)\n",
    "\n",
    "## Proportion of wins\n",
    "change_perc <- mean(changewin)\n",
    "stay_perc <- mean(staywin)\n",
    "\n",
    "## To display the results nicely\n",
    "d1 <- \"\\n Monty Hall Problem Simulation\\n\\n\\\"Don't Switch\\\"\\n\"\n",
    "d2 <- \"\\n                           Wins = \"\n",
    "d3 <- \"\\n               Number of Trials = \"\n",
    "d4 <- \"\\n    Observed Winning Proportion = \"\n",
    "d5 <- \"\\n Theoretical Winning Proportion = \"\n",
    "d6 <- \"\\n\\n\\\"Switch to Other Door\\\"\\n\"\n",
    "\n",
    "cat(d1, d2, sum(staywin), d3, N, d4, stay_perc, d5, 1/3, d6,\n",
    "    d2, sum(changewin), d3, N, d4, change_perc, d5, 2/3)\n",
    "\n",
    "## Plot 'convergence' to true winning proportions\n",
    "## Blue is switching doors, red is staying\n",
    "plot.new()\n",
    "plot(cumsum(changewin) / c(1:N), main = \"'Convergence' to True Winning Proportions\",\n",
    "     xlab = \"Trial\", ylab = \"Win Percent\", ylim = c(0, 1), col = \"blue\")\n",
    "abline(h = 2/3)\n",
    "points(cumsum(staywin) / c(1:N), type = \"p\", col = \"red\")\n",
    "abline(h = 1/3)\n"
   ]
  },
  {
   "cell_type": "markdown",
   "metadata": {},
   "source": [
    "# Ein Kommentar"
   ]
  },
  {
   "cell_type": "code",
   "execution_count": null,
   "metadata": {},
   "outputs": [],
   "source": []
  },
  {
   "cell_type": "code",
   "execution_count": null,
   "metadata": {},
   "outputs": [],
   "source": []
  },
  {
   "cell_type": "code",
   "execution_count": null,
   "metadata": {},
   "outputs": [],
   "source": []
  },
  {
   "cell_type": "code",
   "execution_count": null,
   "metadata": {},
   "outputs": [],
   "source": []
  }
 ],
 "metadata": {
  "kernelspec": {
   "display_name": "Python 3",
   "language": "python",
   "name": "python3"
  },
  "language_info": {
   "codemirror_mode": {
    "name": "ipython",
    "version": 3
   },
   "file_extension": ".py",
   "mimetype": "text/x-python",
   "name": "python",
   "nbconvert_exporter": "python",
   "pygments_lexer": "ipython3",
   "version": "3.8.5"
  }
 },
 "nbformat": 4,
 "nbformat_minor": 4
}
